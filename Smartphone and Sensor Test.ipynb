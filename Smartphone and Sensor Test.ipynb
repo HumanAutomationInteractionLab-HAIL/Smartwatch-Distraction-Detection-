{
 "cells": [
  {
   "cell_type": "markdown",
   "metadata": {},
   "source": [
    "# Goal is to Engineer Gyroscope features that can predict activity type "
   ]
  },
  {
   "cell_type": "code",
   "execution_count": null,
   "metadata": {},
   "outputs": [],
   "source": [
    "library(sqldf)"
   ]
  },
  {
   "cell_type": "code",
   "execution_count": 6,
   "metadata": {},
   "outputs": [],
   "source": [
    "glasses <- read.csv(\"glasses.csv\")"
   ]
  },
  {
   "cell_type": "code",
   "execution_count": 3,
   "metadata": {},
   "outputs": [],
   "source": [
    "report <- read.csv(\"report.csv\")"
   ]
  },
  {
   "cell_type": "code",
   "execution_count": 8,
   "metadata": {},
   "outputs": [],
   "source": [
    "smartphone <- read.csv(\"smartphone.csv\")\n",
    "smartwatch <- read.csv(\"smartwatch.csv\")"
   ]
  },
  {
   "cell_type": "code",
   "execution_count": 60,
   "metadata": {},
   "outputs": [
    {
     "name": "stdout",
     "output_type": "stream",
     "text": [
      "[1] \"smartphone features\"\n"
     ]
    },
    {
     "data": {
      "text/html": [
       "<ol class=list-inline>\n",
       "\t<li>step_detector</li>\n",
       "\t<li>battery</li>\n",
       "\t<li>activity</li>\n",
       "\t<li>audio</li>\n",
       "\t<li>orientation</li>\n",
       "\t<li>accelerometer</li>\n",
       "\t<li>gyroscope</li>\n",
       "\t<li>magnetometer</li>\n",
       "\t<li>pressure</li>\n",
       "\t<li>light</li>\n",
       "\t<li>gravity</li>\n",
       "\t<li>linear_acceleration</li>\n",
       "\t<li>rotationVector</li>\n",
       "\t<li>wifi</li>\n",
       "\t<li>proximity</li>\n",
       "\t<li>bluetooth</li>\n",
       "\t<li>step_counter</li>\n",
       "</ol>\n",
       "\n",
       "<details>\n",
       "\t<summary style=display:list-item;cursor:pointer>\n",
       "\t\t<strong>Levels</strong>:\n",
       "\t</summary>\n",
       "\t<ol class=list-inline>\n",
       "\t\t<li>'accelerometer'</li>\n",
       "\t\t<li>'activity'</li>\n",
       "\t\t<li>'audio'</li>\n",
       "\t\t<li>'battery'</li>\n",
       "\t\t<li>'bluetooth'</li>\n",
       "\t\t<li>'gravity'</li>\n",
       "\t\t<li>'gyroscope'</li>\n",
       "\t\t<li>'light'</li>\n",
       "\t\t<li>'linear_acceleration'</li>\n",
       "\t\t<li>'magnetometer'</li>\n",
       "\t\t<li>'orientation'</li>\n",
       "\t\t<li>'pressure'</li>\n",
       "\t\t<li>'proximity'</li>\n",
       "\t\t<li>'rotationVector'</li>\n",
       "\t\t<li>'step_counter'</li>\n",
       "\t\t<li>'step_detector'</li>\n",
       "\t\t<li>'wifi'</li>\n",
       "\t</ol>\n",
       "</details>"
      ],
      "text/latex": [
       "\\begin{enumerate*}\n",
       "\\item step\\_detector\n",
       "\\item battery\n",
       "\\item activity\n",
       "\\item audio\n",
       "\\item orientation\n",
       "\\item accelerometer\n",
       "\\item gyroscope\n",
       "\\item magnetometer\n",
       "\\item pressure\n",
       "\\item light\n",
       "\\item gravity\n",
       "\\item linear\\_acceleration\n",
       "\\item rotationVector\n",
       "\\item wifi\n",
       "\\item proximity\n",
       "\\item bluetooth\n",
       "\\item step\\_counter\n",
       "\\end{enumerate*}\n",
       "\n",
       "\\emph{Levels}: \\begin{enumerate*}\n",
       "\\item 'accelerometer'\n",
       "\\item 'activity'\n",
       "\\item 'audio'\n",
       "\\item 'battery'\n",
       "\\item 'bluetooth'\n",
       "\\item 'gravity'\n",
       "\\item 'gyroscope'\n",
       "\\item 'light'\n",
       "\\item 'linear\\_acceleration'\n",
       "\\item 'magnetometer'\n",
       "\\item 'orientation'\n",
       "\\item 'pressure'\n",
       "\\item 'proximity'\n",
       "\\item 'rotationVector'\n",
       "\\item 'step\\_counter'\n",
       "\\item 'step\\_detector'\n",
       "\\item 'wifi'\n",
       "\\end{enumerate*}\n"
      ],
      "text/markdown": [
       "1. step_detector\n",
       "2. battery\n",
       "3. activity\n",
       "4. audio\n",
       "5. orientation\n",
       "6. accelerometer\n",
       "7. gyroscope\n",
       "8. magnetometer\n",
       "9. pressure\n",
       "10. light\n",
       "11. gravity\n",
       "12. linear_acceleration\n",
       "13. rotationVector\n",
       "14. wifi\n",
       "15. proximity\n",
       "16. bluetooth\n",
       "17. step_counter\n",
       "\n",
       "\n",
       "\n",
       "**Levels**: 1. 'accelerometer'\n",
       "2. 'activity'\n",
       "3. 'audio'\n",
       "4. 'battery'\n",
       "5. 'bluetooth'\n",
       "6. 'gravity'\n",
       "7. 'gyroscope'\n",
       "8. 'light'\n",
       "9. 'linear_acceleration'\n",
       "10. 'magnetometer'\n",
       "11. 'orientation'\n",
       "12. 'pressure'\n",
       "13. 'proximity'\n",
       "14. 'rotationVector'\n",
       "15. 'step_counter'\n",
       "16. 'step_detector'\n",
       "17. 'wifi'\n",
       "\n",
       "\n"
      ],
      "text/plain": [
       " [1] step_detector       battery             activity           \n",
       " [4] audio               orientation         accelerometer      \n",
       " [7] gyroscope           magnetometer        pressure           \n",
       "[10] light               gravity             linear_acceleration\n",
       "[13] rotationVector      wifi                proximity          \n",
       "[16] bluetooth           step_counter       \n",
       "17 Levels: accelerometer activity audio battery bluetooth gravity ... wifi"
      ]
     },
     "metadata": {},
     "output_type": "display_data"
    },
    {
     "name": "stdout",
     "output_type": "stream",
     "text": [
      "[1] \"smartwatch features\"\n"
     ]
    },
    {
     "data": {
      "text/html": [
       "<ol class=list-inline>\n",
       "\t<li>battery</li>\n",
       "\t<li>accelerometer</li>\n",
       "\t<li>gravity</li>\n",
       "\t<li>linear_acceleration</li>\n",
       "\t<li>gyroscope</li>\n",
       "\t<li>pressure</li>\n",
       "\t<li>orientation</li>\n",
       "\t<li>magnetometer</li>\n",
       "\t<li>rotation_vector</li>\n",
       "\t<li>heart_rate</li>\n",
       "\t<li>step_counter</li>\n",
       "\t<li>step_detector</li>\n",
       "</ol>\n",
       "\n",
       "<details>\n",
       "\t<summary style=display:list-item;cursor:pointer>\n",
       "\t\t<strong>Levels</strong>:\n",
       "\t</summary>\n",
       "\t<ol class=list-inline>\n",
       "\t\t<li>'accelerometer'</li>\n",
       "\t\t<li>'battery'</li>\n",
       "\t\t<li>'gravity'</li>\n",
       "\t\t<li>'gyroscope'</li>\n",
       "\t\t<li>'heart_rate'</li>\n",
       "\t\t<li>'linear_acceleration'</li>\n",
       "\t\t<li>'magnetometer'</li>\n",
       "\t\t<li>'orientation'</li>\n",
       "\t\t<li>'pressure'</li>\n",
       "\t\t<li>'rotation_vector'</li>\n",
       "\t\t<li>'step_counter'</li>\n",
       "\t\t<li>'step_detector'</li>\n",
       "\t</ol>\n",
       "</details>"
      ],
      "text/latex": [
       "\\begin{enumerate*}\n",
       "\\item battery\n",
       "\\item accelerometer\n",
       "\\item gravity\n",
       "\\item linear\\_acceleration\n",
       "\\item gyroscope\n",
       "\\item pressure\n",
       "\\item orientation\n",
       "\\item magnetometer\n",
       "\\item rotation\\_vector\n",
       "\\item heart\\_rate\n",
       "\\item step\\_counter\n",
       "\\item step\\_detector\n",
       "\\end{enumerate*}\n",
       "\n",
       "\\emph{Levels}: \\begin{enumerate*}\n",
       "\\item 'accelerometer'\n",
       "\\item 'battery'\n",
       "\\item 'gravity'\n",
       "\\item 'gyroscope'\n",
       "\\item 'heart\\_rate'\n",
       "\\item 'linear\\_acceleration'\n",
       "\\item 'magnetometer'\n",
       "\\item 'orientation'\n",
       "\\item 'pressure'\n",
       "\\item 'rotation\\_vector'\n",
       "\\item 'step\\_counter'\n",
       "\\item 'step\\_detector'\n",
       "\\end{enumerate*}\n"
      ],
      "text/markdown": [
       "1. battery\n",
       "2. accelerometer\n",
       "3. gravity\n",
       "4. linear_acceleration\n",
       "5. gyroscope\n",
       "6. pressure\n",
       "7. orientation\n",
       "8. magnetometer\n",
       "9. rotation_vector\n",
       "10. heart_rate\n",
       "11. step_counter\n",
       "12. step_detector\n",
       "\n",
       "\n",
       "\n",
       "**Levels**: 1. 'accelerometer'\n",
       "2. 'battery'\n",
       "3. 'gravity'\n",
       "4. 'gyroscope'\n",
       "5. 'heart_rate'\n",
       "6. 'linear_acceleration'\n",
       "7. 'magnetometer'\n",
       "8. 'orientation'\n",
       "9. 'pressure'\n",
       "10. 'rotation_vector'\n",
       "11. 'step_counter'\n",
       "12. 'step_detector'\n",
       "\n",
       "\n"
      ],
      "text/plain": [
       " [1] battery             accelerometer       gravity            \n",
       " [4] linear_acceleration gyroscope           pressure           \n",
       " [7] orientation         magnetometer        rotation_vector    \n",
       "[10] heart_rate          step_counter        step_detector      \n",
       "12 Levels: accelerometer battery gravity gyroscope ... step_detector"
      ]
     },
     "metadata": {},
     "output_type": "display_data"
    }
   ],
   "source": [
    "#explore main features in both datasets\n",
    "print(\"smartphone features\")\n",
    "unique(smartphone$source)\n",
    "print(\"smartwatch features\")\n",
    "unique(smartwatch$source)"
   ]
  },
  {
   "cell_type": "markdown",
   "metadata": {},
   "source": [
    "# Joining Report and SmartWatch"
   ]
  },
  {
   "cell_type": "code",
   "execution_count": 61,
   "metadata": {},
   "outputs": [
    {
     "data": {
      "text/html": [
       "<ol class=list-inline>\n",
       "\t<li>'index'</li>\n",
       "\t<li>'activity_type'</li>\n",
       "\t<li>'duration'</li>\n",
       "\t<li>'from'</li>\n",
       "\t<li>'to'</li>\n",
       "\t<li>'comment'</li>\n",
       "\t<li>'from_long'</li>\n",
       "\t<li>'to_long'</li>\n",
       "\t<li>'diff'</li>\n",
       "</ol>\n"
      ],
      "text/latex": [
       "\\begin{enumerate*}\n",
       "\\item 'index'\n",
       "\\item 'activity\\_type'\n",
       "\\item 'duration'\n",
       "\\item 'from'\n",
       "\\item 'to'\n",
       "\\item 'comment'\n",
       "\\item 'from\\_long'\n",
       "\\item 'to\\_long'\n",
       "\\item 'diff'\n",
       "\\end{enumerate*}\n"
      ],
      "text/markdown": [
       "1. 'index'\n",
       "2. 'activity_type'\n",
       "3. 'duration'\n",
       "4. 'from'\n",
       "5. 'to'\n",
       "6. 'comment'\n",
       "7. 'from_long'\n",
       "8. 'to_long'\n",
       "9. 'diff'\n",
       "\n",
       "\n"
      ],
      "text/plain": [
       "[1] \"index\"         \"activity_type\" \"duration\"      \"from\"         \n",
       "[5] \"to\"            \"comment\"       \"from_long\"     \"to_long\"      \n",
       "[9] \"diff\"         "
      ]
     },
     "metadata": {},
     "output_type": "display_data"
    },
    {
     "data": {
      "text/html": [
       "<ol class=list-inline>\n",
       "\t<li>'index'</li>\n",
       "\t<li>'source'</li>\n",
       "\t<li>'timestamp'</li>\n",
       "\t<li>'values'</li>\n",
       "\t<li>'timestamp_short'</li>\n",
       "</ol>\n"
      ],
      "text/latex": [
       "\\begin{enumerate*}\n",
       "\\item 'index'\n",
       "\\item 'source'\n",
       "\\item 'timestamp'\n",
       "\\item 'values'\n",
       "\\item 'timestamp\\_short'\n",
       "\\end{enumerate*}\n"
      ],
      "text/markdown": [
       "1. 'index'\n",
       "2. 'source'\n",
       "3. 'timestamp'\n",
       "4. 'values'\n",
       "5. 'timestamp_short'\n",
       "\n",
       "\n"
      ],
      "text/plain": [
       "[1] \"index\"           \"source\"          \"timestamp\"       \"values\"         \n",
       "[5] \"timestamp_short\""
      ]
     },
     "metadata": {},
     "output_type": "display_data"
    },
    {
     "data": {
      "text/html": [
       "'character'"
      ],
      "text/latex": [
       "'character'"
      ],
      "text/markdown": [
       "'character'"
      ],
      "text/plain": [
       "[1] \"character\""
      ]
     },
     "metadata": {},
     "output_type": "display_data"
    },
    {
     "data": {
      "text/html": [
       "'character'"
      ],
      "text/latex": [
       "'character'"
      ],
      "text/markdown": [
       "'character'"
      ],
      "text/plain": [
       "[1] \"character\""
      ]
     },
     "metadata": {},
     "output_type": "display_data"
    },
    {
     "data": {
      "text/html": [
       "'character'"
      ],
      "text/latex": [
       "'character'"
      ],
      "text/markdown": [
       "'character'"
      ],
      "text/plain": [
       "[1] \"character\""
      ]
     },
     "metadata": {},
     "output_type": "display_data"
    },
    {
     "data": {
      "text/html": [
       "<ol class=list-inline>\n",
       "\t<li>'2017-07-01 21:34'</li>\n",
       "\t<li>'2017-07-01 21:29'</li>\n",
       "\t<li>'2017-07-01 21:13'</li>\n",
       "\t<li>'2017-07-01 21:08'</li>\n",
       "\t<li>'2017-07-01 20:49'</li>\n",
       "\t<li>'2017-07-01 18:26'</li>\n",
       "</ol>\n"
      ],
      "text/latex": [
       "\\begin{enumerate*}\n",
       "\\item '2017-07-01 21:34'\n",
       "\\item '2017-07-01 21:29'\n",
       "\\item '2017-07-01 21:13'\n",
       "\\item '2017-07-01 21:08'\n",
       "\\item '2017-07-01 20:49'\n",
       "\\item '2017-07-01 18:26'\n",
       "\\end{enumerate*}\n"
      ],
      "text/markdown": [
       "1. '2017-07-01 21:34'\n",
       "2. '2017-07-01 21:29'\n",
       "3. '2017-07-01 21:13'\n",
       "4. '2017-07-01 21:08'\n",
       "5. '2017-07-01 20:49'\n",
       "6. '2017-07-01 18:26'\n",
       "\n",
       "\n"
      ],
      "text/plain": [
       "[1] \"2017-07-01 21:34\" \"2017-07-01 21:29\" \"2017-07-01 21:13\" \"2017-07-01 21:08\"\n",
       "[5] \"2017-07-01 20:49\" \"2017-07-01 18:26\""
      ]
     },
     "metadata": {},
     "output_type": "display_data"
    },
    {
     "data": {
      "text/html": [
       "<ol class=list-inline>\n",
       "\t<li>'2017-07-01 23:17'</li>\n",
       "\t<li>'2017-07-01 21:32'</li>\n",
       "\t<li>'2017-07-02 10:49'</li>\n",
       "\t<li>'2017-07-01 21:13'</li>\n",
       "\t<li>'2017-07-01 21:07'</li>\n",
       "\t<li>'2017-07-01 18:46'</li>\n",
       "</ol>\n"
      ],
      "text/latex": [
       "\\begin{enumerate*}\n",
       "\\item '2017-07-01 23:17'\n",
       "\\item '2017-07-01 21:32'\n",
       "\\item '2017-07-02 10:49'\n",
       "\\item '2017-07-01 21:13'\n",
       "\\item '2017-07-01 21:07'\n",
       "\\item '2017-07-01 18:46'\n",
       "\\end{enumerate*}\n"
      ],
      "text/markdown": [
       "1. '2017-07-01 23:17'\n",
       "2. '2017-07-01 21:32'\n",
       "3. '2017-07-02 10:49'\n",
       "4. '2017-07-01 21:13'\n",
       "5. '2017-07-01 21:07'\n",
       "6. '2017-07-01 18:46'\n",
       "\n",
       "\n"
      ],
      "text/plain": [
       "[1] \"2017-07-01 23:17\" \"2017-07-01 21:32\" \"2017-07-02 10:49\" \"2017-07-01 21:13\"\n",
       "[5] \"2017-07-01 21:07\" \"2017-07-01 18:46\""
      ]
     },
     "metadata": {},
     "output_type": "display_data"
    },
    {
     "data": {
      "text/html": [
       "'character'"
      ],
      "text/latex": [
       "'character'"
      ],
      "text/markdown": [
       "'character'"
      ],
      "text/plain": [
       "[1] \"character\""
      ]
     },
     "metadata": {},
     "output_type": "display_data"
    }
   ],
   "source": [
    "#Convert to and from into characters for smartwatch, explore data types\n",
    "#We will focus on smartwatch for now\n",
    "colnames(report)\n",
    "colnames(smartwatch)\n",
    "\n",
    "typeof(report$from)\n",
    "typeof(report$to)\n",
    "typeof(smartwatch$timestamp)\n",
    "\n",
    "report$from <- as.character(report$from)\n",
    "report$to <- as.character(report$to)\n",
    "smartwatch$timestamp <- as.character(smartwatch$timestamp)\n",
    "\n",
    "head(report$from)\n",
    "head(report$to)\n",
    "\n",
    "typeof(smartwatch$timestamp)"
   ]
  },
  {
   "cell_type": "code",
   "execution_count": 63,
   "metadata": {},
   "outputs": [
    {
     "data": {
      "text/html": [
       "'2017-07-07 11:02:54.807'"
      ],
      "text/latex": [
       "'2017-07-07 11:02:54.807'"
      ],
      "text/markdown": [
       "'2017-07-07 11:02:54.807'"
      ],
      "text/plain": [
       "[1] \"2017-07-07 11:02:54.807\""
      ]
     },
     "metadata": {},
     "output_type": "display_data"
    },
    {
     "data": {
      "text/html": [
       "'2017-07-02 19:03'"
      ],
      "text/latex": [
       "'2017-07-02 19:03'"
      ],
      "text/markdown": [
       "'2017-07-02 19:03'"
      ],
      "text/plain": [
       "[1] \"2017-07-02 19:03\""
      ]
     },
     "metadata": {},
     "output_type": "display_data"
    },
    {
     "data": {
      "text/html": [
       "TRUE"
      ],
      "text/latex": [
       "TRUE"
      ],
      "text/markdown": [
       "TRUE"
      ],
      "text/plain": [
       "[1] TRUE"
      ]
     },
     "metadata": {},
     "output_type": "display_data"
    },
    {
     "data": {
      "text/html": [
       "TRUE"
      ],
      "text/latex": [
       "TRUE"
      ],
      "text/markdown": [
       "TRUE"
      ],
      "text/plain": [
       "[1] TRUE"
      ]
     },
     "metadata": {},
     "output_type": "display_data"
    },
    {
     "data": {
      "text/html": [
       "'2017-06-29 07:45:56'"
      ],
      "text/latex": [
       "'2017-06-29 07:45:56'"
      ],
      "text/markdown": [
       "'2017-06-29 07:45:56'"
      ],
      "text/plain": [
       "[1] \"2017-06-29 07:45:56\""
      ]
     },
     "metadata": {},
     "output_type": "display_data"
    }
   ],
   "source": [
    "#Standardize timestamp formats between smartwatch and report\n",
    "smartwatch$timestamp[100000]\n",
    "report$from[13]\n",
    "smartwatch$timestamp[1] < '2017-06-29 07:45:56.264'\n",
    "\n",
    "smartwatch$timestamp[1] < report$from[1]\n",
    "smartwatch$timestamp_short <- substr(smartwatch$timestamp, 1, 19)\n",
    "smartwatch$timestamp_short[1]"
   ]
  },
  {
   "cell_type": "code",
   "execution_count": 72,
   "metadata": {},
   "outputs": [
    {
     "data": {
      "text/html": [
       "'2017-07-01 21:34:00'"
      ],
      "text/latex": [
       "'2017-07-01 21:34:00'"
      ],
      "text/markdown": [
       "'2017-07-01 21:34:00'"
      ],
      "text/plain": [
       "[1] \"2017-07-01 21:34:00\""
      ]
     },
     "metadata": {},
     "output_type": "display_data"
    },
    {
     "data": {
      "text/html": [
       "'2017-07-01 23:17:00'"
      ],
      "text/latex": [
       "'2017-07-01 23:17:00'"
      ],
      "text/markdown": [
       "'2017-07-01 23:17:00'"
      ],
      "text/plain": [
       "[1] \"2017-07-01 23:17:00\""
      ]
     },
     "metadata": {},
     "output_type": "display_data"
    },
    {
     "data": {
      "text/plain": [
       "NULL"
      ]
     },
     "metadata": {},
     "output_type": "display_data"
    },
    {
     "data": {
      "text/html": [
       "<table>\n",
       "<thead><tr><th scope=col>index</th><th scope=col>activity_type</th><th scope=col>duration</th><th scope=col>from</th><th scope=col>to</th><th scope=col>comment</th><th scope=col>from_long</th><th scope=col>to_long</th><th scope=col>diff</th><th scope=col>duration_in_s</th></tr></thead>\n",
       "<tbody>\n",
       "\t<tr><td>0                  </td><td>Video games        </td><td>103                </td><td>2017-07-01 21:34   </td><td>2017-07-01 23:17   </td><td>                   </td><td>2017-07-01 21:34:00</td><td>2017-07-01 23:17:00</td><td>103                </td><td>103                </td></tr>\n",
       "\t<tr><td>1                  </td><td>In computer        </td><td>3                  </td><td>2017-07-01 21:29   </td><td>2017-07-01 21:32   </td><td>                   </td><td>2017-07-01 21:29:00</td><td>2017-07-01 21:32:00</td><td>3                  </td><td>3                  </td></tr>\n",
       "\t<tr><td>2                  </td><td>At home            </td><td>816                </td><td>2017-07-01 21:13   </td><td>2017-07-02 10:49   </td><td>                   </td><td>2017-07-01 21:13:00</td><td>2017-07-02 10:49:00</td><td>816                </td><td>816                </td></tr>\n",
       "\t<tr><td>3                  </td><td>In computer        </td><td>5                  </td><td>2017-07-01 21:08   </td><td>2017-07-01 21:13   </td><td>                   </td><td>2017-07-01 21:08:00</td><td>2017-07-01 21:13:00</td><td>5                  </td><td>5                  </td></tr>\n",
       "\t<tr><td>4                  </td><td>Eat                </td><td>18                 </td><td>2017-07-01 20:49   </td><td>2017-07-01 21:07   </td><td>                   </td><td>2017-07-01 20:49:00</td><td>2017-07-01 21:07:00</td><td>18                 </td><td>18                 </td></tr>\n",
       "\t<tr><td>5                  </td><td>In computer        </td><td>20                 </td><td>2017-07-01 18:26   </td><td>2017-07-01 18:46   </td><td>                   </td><td>2017-07-01 18:26:00</td><td>2017-07-01 18:46:00</td><td>20                 </td><td>20                 </td></tr>\n",
       "</tbody>\n",
       "</table>\n"
      ],
      "text/latex": [
       "\\begin{tabular}{r|llllllllll}\n",
       " index & activity\\_type & duration & from & to & comment & from\\_long & to\\_long & diff & duration\\_in\\_s\\\\\n",
       "\\hline\n",
       "\t 0                   & Video games         & 103                 & 2017-07-01 21:34    & 2017-07-01 23:17    &                     & 2017-07-01 21:34:00 & 2017-07-01 23:17:00 & 103                 & 103                \\\\\n",
       "\t 1                   & In computer         & 3                   & 2017-07-01 21:29    & 2017-07-01 21:32    &                     & 2017-07-01 21:29:00 & 2017-07-01 21:32:00 & 3                   & 3                  \\\\\n",
       "\t 2                   & At home             & 816                 & 2017-07-01 21:13    & 2017-07-02 10:49    &                     & 2017-07-01 21:13:00 & 2017-07-02 10:49:00 & 816                 & 816                \\\\\n",
       "\t 3                   & In computer         & 5                   & 2017-07-01 21:08    & 2017-07-01 21:13    &                     & 2017-07-01 21:08:00 & 2017-07-01 21:13:00 & 5                   & 5                  \\\\\n",
       "\t 4                   & Eat                 & 18                  & 2017-07-01 20:49    & 2017-07-01 21:07    &                     & 2017-07-01 20:49:00 & 2017-07-01 21:07:00 & 18                  & 18                 \\\\\n",
       "\t 5                   & In computer         & 20                  & 2017-07-01 18:26    & 2017-07-01 18:46    &                     & 2017-07-01 18:26:00 & 2017-07-01 18:46:00 & 20                  & 20                 \\\\\n",
       "\\end{tabular}\n"
      ],
      "text/markdown": [
       "\n",
       "index | activity_type | duration | from | to | comment | from_long | to_long | diff | duration_in_s | \n",
       "|---|---|---|---|---|---|\n",
       "| 0                   | Video games         | 103                 | 2017-07-01 21:34    | 2017-07-01 23:17    |                     | 2017-07-01 21:34:00 | 2017-07-01 23:17:00 | 103                 | 103                 | \n",
       "| 1                   | In computer         | 3                   | 2017-07-01 21:29    | 2017-07-01 21:32    |                     | 2017-07-01 21:29:00 | 2017-07-01 21:32:00 | 3                   | 3                   | \n",
       "| 2                   | At home             | 816                 | 2017-07-01 21:13    | 2017-07-02 10:49    |                     | 2017-07-01 21:13:00 | 2017-07-02 10:49:00 | 816                 | 816                 | \n",
       "| 3                   | In computer         | 5                   | 2017-07-01 21:08    | 2017-07-01 21:13    |                     | 2017-07-01 21:08:00 | 2017-07-01 21:13:00 | 5                   | 5                   | \n",
       "| 4                   | Eat                 | 18                  | 2017-07-01 20:49    | 2017-07-01 21:07    |                     | 2017-07-01 20:49:00 | 2017-07-01 21:07:00 | 18                  | 18                  | \n",
       "| 5                   | In computer         | 20                  | 2017-07-01 18:26    | 2017-07-01 18:46    |                     | 2017-07-01 18:26:00 | 2017-07-01 18:46:00 | 20                  | 20                  | \n",
       "\n",
       "\n"
      ],
      "text/plain": [
       "  index activity_type duration from             to               comment\n",
       "1 0     Video games   103      2017-07-01 21:34 2017-07-01 23:17        \n",
       "2 1     In computer   3        2017-07-01 21:29 2017-07-01 21:32        \n",
       "3 2     At home       816      2017-07-01 21:13 2017-07-02 10:49        \n",
       "4 3     In computer   5        2017-07-01 21:08 2017-07-01 21:13        \n",
       "5 4     Eat           18       2017-07-01 20:49 2017-07-01 21:07        \n",
       "6 5     In computer   20       2017-07-01 18:26 2017-07-01 18:46        \n",
       "  from_long           to_long             diff duration_in_s\n",
       "1 2017-07-01 21:34:00 2017-07-01 23:17:00 103  103          \n",
       "2 2017-07-01 21:29:00 2017-07-01 21:32:00 3    3            \n",
       "3 2017-07-01 21:13:00 2017-07-02 10:49:00 816  816          \n",
       "4 2017-07-01 21:08:00 2017-07-01 21:13:00 5    5            \n",
       "5 2017-07-01 20:49:00 2017-07-01 21:07:00 18   18           \n",
       "6 2017-07-01 18:26:00 2017-07-01 18:46:00 20   20           "
      ]
     },
     "metadata": {},
     "output_type": "display_data"
    },
    {
     "data": {
      "text/html": [
       "<table>\n",
       "<thead><tr><th scope=col>index</th><th scope=col>source</th><th scope=col>timestamp</th><th scope=col>values</th><th scope=col>timestamp_short</th></tr></thead>\n",
       "<tbody>\n",
       "\t<tr><td>164349                                          </td><td>battery                                         </td><td>2017-06-29 07:45:56.262                         </td><td>['98']                                          </td><td>2017-06-29 07:45:56                             </td></tr>\n",
       "\t<tr><td>164350                                          </td><td>accelerometer                                   </td><td>2017-06-29 07:46:01.263                         </td><td>['-0.3440857', '0.68330383', '9.967361']        </td><td>2017-06-29 07:46:01                             </td></tr>\n",
       "\t<tr><td>164351                                          </td><td>gravity                                         </td><td>2017-06-29 07:46:01.324                         </td><td>['-0.34131828', '0.6573288', '9.778641']        </td><td>2017-06-29 07:46:01                             </td></tr>\n",
       "\t<tr><td>164352                                          </td><td>linear_acceleration                             </td><td>2017-06-29 07:46:01.329                         </td><td>['-0.018068999', '0.034808993', '-0.033065796'] </td><td>2017-06-29 07:46:01                             </td></tr>\n",
       "\t<tr><td>164353                                          </td><td>gyroscope                                       </td><td>2017-06-29 07:46:01.402                         </td><td>['0.0041656494', '-0.0132751465', '0.006164551']</td><td>2017-06-29 07:46:01                             </td></tr>\n",
       "\t<tr><td>164354                                          </td><td>pressure                                        </td><td>2017-06-29 07:46:01.464                         </td><td>['969.3651']                                    </td><td>2017-06-29 07:46:01                             </td></tr>\n",
       "</tbody>\n",
       "</table>\n"
      ],
      "text/latex": [
       "\\begin{tabular}{r|lllll}\n",
       " index & source & timestamp & values & timestamp\\_short\\\\\n",
       "\\hline\n",
       "\t 164349                                               & battery                                              & 2017-06-29 07:45:56.262                              & {[}'98'{]}                                           & 2017-06-29 07:45:56                                 \\\\\n",
       "\t 164350                                               & accelerometer                                        & 2017-06-29 07:46:01.263                              & {[}'-0.3440857', '0.68330383', '9.967361'{]}         & 2017-06-29 07:46:01                                 \\\\\n",
       "\t 164351                                               & gravity                                              & 2017-06-29 07:46:01.324                              & {[}'-0.34131828', '0.6573288', '9.778641'{]}         & 2017-06-29 07:46:01                                 \\\\\n",
       "\t 164352                                               & linear\\_acceleration                                & 2017-06-29 07:46:01.329                              & {[}'-0.018068999', '0.034808993', '-0.033065796'{]}  & 2017-06-29 07:46:01                                 \\\\\n",
       "\t 164353                                               & gyroscope                                            & 2017-06-29 07:46:01.402                              & {[}'0.0041656494', '-0.0132751465', '0.006164551'{]} & 2017-06-29 07:46:01                                 \\\\\n",
       "\t 164354                                               & pressure                                             & 2017-06-29 07:46:01.464                              & {[}'969.3651'{]}                                     & 2017-06-29 07:46:01                                 \\\\\n",
       "\\end{tabular}\n"
      ],
      "text/markdown": [
       "\n",
       "index | source | timestamp | values | timestamp_short | \n",
       "|---|---|---|---|---|---|\n",
       "| 164349                                           | battery                                          | 2017-06-29 07:45:56.262                          | ['98']                                           | 2017-06-29 07:45:56                              | \n",
       "| 164350                                           | accelerometer                                    | 2017-06-29 07:46:01.263                          | ['-0.3440857', '0.68330383', '9.967361']         | 2017-06-29 07:46:01                              | \n",
       "| 164351                                           | gravity                                          | 2017-06-29 07:46:01.324                          | ['-0.34131828', '0.6573288', '9.778641']         | 2017-06-29 07:46:01                              | \n",
       "| 164352                                           | linear_acceleration                              | 2017-06-29 07:46:01.329                          | ['-0.018068999', '0.034808993', '-0.033065796']  | 2017-06-29 07:46:01                              | \n",
       "| 164353                                           | gyroscope                                        | 2017-06-29 07:46:01.402                          | ['0.0041656494', '-0.0132751465', '0.006164551'] | 2017-06-29 07:46:01                              | \n",
       "| 164354                                           | pressure                                         | 2017-06-29 07:46:01.464                          | ['969.3651']                                     | 2017-06-29 07:46:01                              | \n",
       "\n",
       "\n"
      ],
      "text/plain": [
       "  index  source              timestamp              \n",
       "1 164349 battery             2017-06-29 07:45:56.262\n",
       "2 164350 accelerometer       2017-06-29 07:46:01.263\n",
       "3 164351 gravity             2017-06-29 07:46:01.324\n",
       "4 164352 linear_acceleration 2017-06-29 07:46:01.329\n",
       "5 164353 gyroscope           2017-06-29 07:46:01.402\n",
       "6 164354 pressure            2017-06-29 07:46:01.464\n",
       "  values                                           timestamp_short    \n",
       "1 ['98']                                           2017-06-29 07:45:56\n",
       "2 ['-0.3440857', '0.68330383', '9.967361']         2017-06-29 07:46:01\n",
       "3 ['-0.34131828', '0.6573288', '9.778641']         2017-06-29 07:46:01\n",
       "4 ['-0.018068999', '0.034808993', '-0.033065796']  2017-06-29 07:46:01\n",
       "5 ['0.0041656494', '-0.0132751465', '0.006164551'] 2017-06-29 07:46:01\n",
       "6 ['969.3651']                                     2017-06-29 07:46:01"
      ]
     },
     "metadata": {},
     "output_type": "display_data"
    },
    {
     "data": {
      "text/html": [
       "<table>\n",
       "<thead><tr><th scope=col>index</th><th scope=col>source</th><th scope=col>timestamp</th><th scope=col>values</th></tr></thead>\n",
       "<tbody>\n",
       "\t<tr><td>1316828                             </td><td>step_detector                       </td><td>2017-06-29 07:45:16.506             </td><td>['1.0']                             </td></tr>\n",
       "\t<tr><td>1316829                             </td><td>battery                             </td><td>2017-06-29 07:45:16.514             </td><td>['100']                             </td></tr>\n",
       "\t<tr><td>1316830                             </td><td>activity                            </td><td>2017-06-29 07:45:16.579             </td><td>['STILL: 100']                      </td></tr>\n",
       "\t<tr><td>1316831                             </td><td>audio                               </td><td>2017-06-29 07:45:17.407             </td><td>['0.0', '0.0', '0.0', '32767.0']    </td></tr>\n",
       "\t<tr><td>1316832                             </td><td>audio                               </td><td>2017-06-29 07:45:18.407             </td><td>['227.0', '113.5', '227.0', '227.0']</td></tr>\n",
       "\t<tr><td>1316833                             </td><td>activity                            </td><td>2017-06-29 07:45:18.767             </td><td>['STILL: 100']                      </td></tr>\n",
       "</tbody>\n",
       "</table>\n"
      ],
      "text/latex": [
       "\\begin{tabular}{r|llll}\n",
       " index & source & timestamp & values\\\\\n",
       "\\hline\n",
       "\t 1316828                                  & step\\_detector                          & 2017-06-29 07:45:16.506                  & {[}'1.0'{]}                             \\\\\n",
       "\t 1316829                                  & battery                                  & 2017-06-29 07:45:16.514                  & {[}'100'{]}                             \\\\\n",
       "\t 1316830                                  & activity                                 & 2017-06-29 07:45:16.579                  & {[}'STILL: 100'{]}                      \\\\\n",
       "\t 1316831                                  & audio                                    & 2017-06-29 07:45:17.407                  & {[}'0.0', '0.0', '0.0', '32767.0'{]}    \\\\\n",
       "\t 1316832                                  & audio                                    & 2017-06-29 07:45:18.407                  & {[}'227.0', '113.5', '227.0', '227.0'{]}\\\\\n",
       "\t 1316833                                  & activity                                 & 2017-06-29 07:45:18.767                  & {[}'STILL: 100'{]}                      \\\\\n",
       "\\end{tabular}\n"
      ],
      "text/markdown": [
       "\n",
       "index | source | timestamp | values | \n",
       "|---|---|---|---|---|---|\n",
       "| 1316828                              | step_detector                        | 2017-06-29 07:45:16.506              | ['1.0']                              | \n",
       "| 1316829                              | battery                              | 2017-06-29 07:45:16.514              | ['100']                              | \n",
       "| 1316830                              | activity                             | 2017-06-29 07:45:16.579              | ['STILL: 100']                       | \n",
       "| 1316831                              | audio                                | 2017-06-29 07:45:17.407              | ['0.0', '0.0', '0.0', '32767.0']     | \n",
       "| 1316832                              | audio                                | 2017-06-29 07:45:18.407              | ['227.0', '113.5', '227.0', '227.0'] | \n",
       "| 1316833                              | activity                             | 2017-06-29 07:45:18.767              | ['STILL: 100']                       | \n",
       "\n",
       "\n"
      ],
      "text/plain": [
       "  index   source        timestamp              \n",
       "1 1316828 step_detector 2017-06-29 07:45:16.506\n",
       "2 1316829 battery       2017-06-29 07:45:16.514\n",
       "3 1316830 activity      2017-06-29 07:45:16.579\n",
       "4 1316831 audio         2017-06-29 07:45:17.407\n",
       "5 1316832 audio         2017-06-29 07:45:18.407\n",
       "6 1316833 activity      2017-06-29 07:45:18.767\n",
       "  values                              \n",
       "1 ['1.0']                             \n",
       "2 ['100']                             \n",
       "3 ['STILL: 100']                      \n",
       "4 ['0.0', '0.0', '0.0', '32767.0']    \n",
       "5 ['227.0', '113.5', '227.0', '227.0']\n",
       "6 ['STILL: 100']                      "
      ]
     },
     "metadata": {},
     "output_type": "display_data"
    }
   ],
   "source": [
    "report$from_long <- paste0(report$from, \":00\")\n",
    "report$to_long <- paste0(report$to, \":00\")\n",
    "\n",
    "report$from_long[1]\n",
    "report$to_long[1]\n",
    "smartwatch$timestamp_long[1]\n",
    "\n",
    "#Create duration feature for report\n",
    "report$duration <- as.character(as.POSIXct(report$to) - as.POSIXct(report$from))\n",
    "\n",
    "head(report)\n",
    "head(smartwatch)\n",
    "head(smartphone)"
   ]
  },
  {
   "cell_type": "code",
   "execution_count": 73,
   "metadata": {},
   "outputs": [
    {
     "data": {
      "text/html": [
       "'character'"
      ],
      "text/latex": [
       "'character'"
      ],
      "text/markdown": [
       "'character'"
      ],
      "text/plain": [
       "[1] \"character\""
      ]
     },
     "metadata": {},
     "output_type": "display_data"
    },
    {
     "data": {
      "text/html": [
       "'character'"
      ],
      "text/latex": [
       "'character'"
      ],
      "text/markdown": [
       "'character'"
      ],
      "text/plain": [
       "[1] \"character\""
      ]
     },
     "metadata": {},
     "output_type": "display_data"
    },
    {
     "data": {
      "text/html": [
       "'character'"
      ],
      "text/latex": [
       "'character'"
      ],
      "text/markdown": [
       "'character'"
      ],
      "text/plain": [
       "[1] \"character\""
      ]
     },
     "metadata": {},
     "output_type": "display_data"
    }
   ],
   "source": [
    "#Join report with smartwatch\n",
    "typeof(smartwatch$timestamp_short)\n",
    "typeof(report$from_long)\n",
    "typeof(report$to_long)\n",
    "\n",
    "test_1 <- sqldf('SELECT A.*, B.`index` as eventID, B.`from`, B.`to`, B.duration, B.activity_type\n",
    "     from smartwatch as A\n",
    "     inner join report as B\n",
    "     on (A.timestamp >= B.`from` and A.timestamp <= B.`to_long`)')"
   ]
  },
  {
   "cell_type": "markdown",
   "metadata": {},
   "source": [
    "# Gyroscope Duration exploration"
   ]
  },
  {
   "cell_type": "code",
   "execution_count": 80,
   "metadata": {},
   "outputs": [
    {
     "data": {
      "text/html": [
       "115460"
      ],
      "text/latex": [
       "115460"
      ],
      "text/markdown": [
       "115460"
      ],
      "text/plain": [
       "[1] 115460"
      ]
     },
     "metadata": {},
     "output_type": "display_data"
    },
    {
     "data": {
      "text/html": [
       "<ol class=list-inline>\n",
       "\t<li>orientation</li>\n",
       "\t<li>magnetometer</li>\n",
       "\t<li>battery</li>\n",
       "\t<li>pressure</li>\n",
       "\t<li>gravity</li>\n",
       "\t<li>linear_acceleration</li>\n",
       "\t<li>rotation_vector</li>\n",
       "\t<li>accelerometer</li>\n",
       "\t<li>gyroscope</li>\n",
       "\t<li>heart_rate</li>\n",
       "\t<li>step_detector</li>\n",
       "\t<li>step_counter</li>\n",
       "</ol>\n",
       "\n",
       "<details>\n",
       "\t<summary style=display:list-item;cursor:pointer>\n",
       "\t\t<strong>Levels</strong>:\n",
       "\t</summary>\n",
       "\t<ol class=list-inline>\n",
       "\t\t<li>'accelerometer'</li>\n",
       "\t\t<li>'battery'</li>\n",
       "\t\t<li>'gravity'</li>\n",
       "\t\t<li>'gyroscope'</li>\n",
       "\t\t<li>'heart_rate'</li>\n",
       "\t\t<li>'linear_acceleration'</li>\n",
       "\t\t<li>'magnetometer'</li>\n",
       "\t\t<li>'orientation'</li>\n",
       "\t\t<li>'pressure'</li>\n",
       "\t\t<li>'rotation_vector'</li>\n",
       "\t\t<li>'step_counter'</li>\n",
       "\t\t<li>'step_detector'</li>\n",
       "\t</ol>\n",
       "</details>"
      ],
      "text/latex": [
       "\\begin{enumerate*}\n",
       "\\item orientation\n",
       "\\item magnetometer\n",
       "\\item battery\n",
       "\\item pressure\n",
       "\\item gravity\n",
       "\\item linear\\_acceleration\n",
       "\\item rotation\\_vector\n",
       "\\item accelerometer\n",
       "\\item gyroscope\n",
       "\\item heart\\_rate\n",
       "\\item step\\_detector\n",
       "\\item step\\_counter\n",
       "\\end{enumerate*}\n",
       "\n",
       "\\emph{Levels}: \\begin{enumerate*}\n",
       "\\item 'accelerometer'\n",
       "\\item 'battery'\n",
       "\\item 'gravity'\n",
       "\\item 'gyroscope'\n",
       "\\item 'heart\\_rate'\n",
       "\\item 'linear\\_acceleration'\n",
       "\\item 'magnetometer'\n",
       "\\item 'orientation'\n",
       "\\item 'pressure'\n",
       "\\item 'rotation\\_vector'\n",
       "\\item 'step\\_counter'\n",
       "\\item 'step\\_detector'\n",
       "\\end{enumerate*}\n"
      ],
      "text/markdown": [
       "1. orientation\n",
       "2. magnetometer\n",
       "3. battery\n",
       "4. pressure\n",
       "5. gravity\n",
       "6. linear_acceleration\n",
       "7. rotation_vector\n",
       "8. accelerometer\n",
       "9. gyroscope\n",
       "10. heart_rate\n",
       "11. step_detector\n",
       "12. step_counter\n",
       "\n",
       "\n",
       "\n",
       "**Levels**: 1. 'accelerometer'\n",
       "2. 'battery'\n",
       "3. 'gravity'\n",
       "4. 'gyroscope'\n",
       "5. 'heart_rate'\n",
       "6. 'linear_acceleration'\n",
       "7. 'magnetometer'\n",
       "8. 'orientation'\n",
       "9. 'pressure'\n",
       "10. 'rotation_vector'\n",
       "11. 'step_counter'\n",
       "12. 'step_detector'\n",
       "\n",
       "\n"
      ],
      "text/plain": [
       " [1] orientation         magnetometer        battery            \n",
       " [4] pressure            gravity             linear_acceleration\n",
       " [7] rotation_vector     accelerometer       gyroscope          \n",
       "[10] heart_rate          step_detector       step_counter       \n",
       "12 Levels: accelerometer battery gravity gyroscope ... step_detector"
      ]
     },
     "metadata": {},
     "output_type": "display_data"
    },
    {
     "name": "stderr",
     "output_type": "stream",
     "text": [
      "`stat_bin()` using `bins = 30`. Pick better value with `binwidth`.\n"
     ]
    },
    {
     "data": {},
     "metadata": {},
     "output_type": "display_data"
    },
    {
     "data": {
      "image/png": "[encoded data removed]",
      "text/plain": [
       "plot without title"
      ]
     },
     "metadata": {},
     "output_type": "display_data"
    }
   ],
   "source": [
    "#Explore gyroscope features\n",
    "nrow(test_1)\n",
    "\n",
    "unique(test_1_ID2$source)\n",
    "test_1_gyro <- subset(test_1, source == 'gyroscope')\n",
    "\n",
    "#Plot durations distributions for all events\n",
    "ggplot(test_1_gyro,aes(x=as.numeric(duration))) + geom_histogram()+facet_wrap(~activity_type)"
   ]
  },
  {
   "cell_type": "code",
   "execution_count": 138,
   "metadata": {},
   "outputs": [
    {
     "data": {
      "text/html": [
       "'list'"
      ],
      "text/latex": [
       "'list'"
      ],
      "text/markdown": [
       "'list'"
      ],
      "text/plain": [
       "[1] \"list\""
      ]
     },
     "metadata": {},
     "output_type": "display_data"
    }
   ],
   "source": [
    "library(dplyr)\n",
    "#Engineer gyroscope features\n",
    "test_1_gyro$char <- as.character(test_1_gyro$values)\n",
    "\n",
    "gyro_xyz <- strsplit(test_1_gyro$char, \"\\',\", fixed=TRUE)\n",
    "typeof(gyro_xyz)"
   ]
  },
  {
   "cell_type": "code",
   "execution_count": 139,
   "metadata": {},
   "outputs": [
    {
     "data": {
      "text/html": [
       "<ol>\n",
       "\t<li><ol class=list-inline>\n",
       "\t<li>'[\\'-0.3515625'</li>\n",
       "\t<li>' \\'0.68681335'</li>\n",
       "\t<li>' \\'0.4768982\\']'</li>\n",
       "</ol>\n",
       "</li>\n",
       "\t<li><ol class=list-inline>\n",
       "\t<li>'[\\'-0.08087158'</li>\n",
       "\t<li>' \\'-0.014450073'</li>\n",
       "\t<li>' \\'-0.21063232\\']'</li>\n",
       "</ol>\n",
       "</li>\n",
       "\t<li><ol class=list-inline>\n",
       "\t<li>'[\\'0.58576965'</li>\n",
       "\t<li>' \\'-0.8377991'</li>\n",
       "\t<li>' \\'-1.6647186\\']'</li>\n",
       "</ol>\n",
       "</li>\n",
       "\t<li><ol class=list-inline>\n",
       "\t<li>'[\\'0.55371094'</li>\n",
       "\t<li>' \\'0.86172485'</li>\n",
       "\t<li>' \\'2.2135925\\']'</li>\n",
       "</ol>\n",
       "</li>\n",
       "\t<li><ol class=list-inline>\n",
       "\t<li>'[\\'0.49180603'</li>\n",
       "\t<li>' \\'-0.7094269'</li>\n",
       "\t<li>' \\'-1.9339142\\']'</li>\n",
       "</ol>\n",
       "</li>\n",
       "\t<li><ol class=list-inline>\n",
       "\t<li>'[\\'-1.0274658'</li>\n",
       "\t<li>' \\'0.7282562'</li>\n",
       "\t<li>' \\'0.86624146\\']'</li>\n",
       "</ol>\n",
       "</li>\n",
       "\t<li><ol class=list-inline>\n",
       "\t<li>'[\\'-1.3852844'</li>\n",
       "\t<li>' \\'1.3186188'</li>\n",
       "\t<li>' \\'1.4363708\\']'</li>\n",
       "</ol>\n",
       "</li>\n",
       "\t<li><ol class=list-inline>\n",
       "\t<li>'[\\'-0.003112793'</li>\n",
       "\t<li>' \\'-0.31069946'</li>\n",
       "\t<li>' \\'-1.348114\\']'</li>\n",
       "</ol>\n",
       "</li>\n",
       "\t<li><ol class=list-inline>\n",
       "\t<li>'[\\'0.767395'</li>\n",
       "\t<li>' \\'1.4823456'</li>\n",
       "\t<li>' \\'3.1717987\\']'</li>\n",
       "</ol>\n",
       "</li>\n",
       "\t<li><ol class=list-inline>\n",
       "\t<li>'[\\'0.045791626'</li>\n",
       "\t<li>' \\'0.023895264'</li>\n",
       "\t<li>' \\'-0.0072784424\\']'</li>\n",
       "</ol>\n",
       "</li>\n",
       "\t<li><ol class=list-inline>\n",
       "\t<li>'[\\'0.94944763'</li>\n",
       "\t<li>' \\'-2.2355347'</li>\n",
       "\t<li>' \\'2.74292\\']'</li>\n",
       "</ol>\n",
       "</li>\n",
       "\t<li><ol class=list-inline>\n",
       "\t<li>'[\\'1.2572021'</li>\n",
       "\t<li>' \\'-0.6462555'</li>\n",
       "\t<li>' \\'-0.8005676\\']'</li>\n",
       "</ol>\n",
       "</li>\n",
       "\t<li><ol class=list-inline>\n",
       "\t<li>'[\\'-0.27667236'</li>\n",
       "\t<li>' \\'0.45085144'</li>\n",
       "\t<li>' \\'0.8242798\\']'</li>\n",
       "</ol>\n",
       "</li>\n",
       "\t<li><ol class=list-inline>\n",
       "\t<li>'[\\'0.8366394'</li>\n",
       "\t<li>' \\'-1.401001'</li>\n",
       "\t<li>' \\'-1.5920715\\']'</li>\n",
       "</ol>\n",
       "</li>\n",
       "\t<li><ol class=list-inline>\n",
       "\t<li>'[\\'-0.32269287'</li>\n",
       "\t<li>' \\'-0.57818604'</li>\n",
       "\t<li>' \\'-2.6925812\\']'</li>\n",
       "</ol>\n",
       "</li>\n",
       "</ol>\n"
      ],
      "text/latex": [
       "\\begin{enumerate}\n",
       "\\item \\begin{enumerate*}\n",
       "\\item '{[}\\textbackslash{}'-0.3515625'\n",
       "\\item ' \\textbackslash{}'0.68681335'\n",
       "\\item ' \\textbackslash{}'0.4768982\\textbackslash{}'{]}'\n",
       "\\end{enumerate*}\n",
       "\n",
       "\\item \\begin{enumerate*}\n",
       "\\item '{[}\\textbackslash{}'-0.08087158'\n",
       "\\item ' \\textbackslash{}'-0.014450073'\n",
       "\\item ' \\textbackslash{}'-0.21063232\\textbackslash{}'{]}'\n",
       "\\end{enumerate*}\n",
       "\n",
       "\\item \\begin{enumerate*}\n",
       "\\item '{[}\\textbackslash{}'0.58576965'\n",
       "\\item ' \\textbackslash{}'-0.8377991'\n",
       "\\item ' \\textbackslash{}'-1.6647186\\textbackslash{}'{]}'\n",
       "\\end{enumerate*}\n",
       "\n",
       "\\item \\begin{enumerate*}\n",
       "\\item '{[}\\textbackslash{}'0.55371094'\n",
       "\\item ' \\textbackslash{}'0.86172485'\n",
       "\\item ' \\textbackslash{}'2.2135925\\textbackslash{}'{]}'\n",
       "\\end{enumerate*}\n",
       "\n",
       "\\item \\begin{enumerate*}\n",
       "\\item '{[}\\textbackslash{}'0.49180603'\n",
       "\\item ' \\textbackslash{}'-0.7094269'\n",
       "\\item ' \\textbackslash{}'-1.9339142\\textbackslash{}'{]}'\n",
       "\\end{enumerate*}\n",
       "\n",
       "\\item \\begin{enumerate*}\n",
       "\\item '{[}\\textbackslash{}'-1.0274658'\n",
       "\\item ' \\textbackslash{}'0.7282562'\n",
       "\\item ' \\textbackslash{}'0.86624146\\textbackslash{}'{]}'\n",
       "\\end{enumerate*}\n",
       "\n",
       "\\item \\begin{enumerate*}\n",
       "\\item '{[}\\textbackslash{}'-1.3852844'\n",
       "\\item ' \\textbackslash{}'1.3186188'\n",
       "\\item ' \\textbackslash{}'1.4363708\\textbackslash{}'{]}'\n",
       "\\end{enumerate*}\n",
       "\n",
       "\\item \\begin{enumerate*}\n",
       "\\item '{[}\\textbackslash{}'-0.003112793'\n",
       "\\item ' \\textbackslash{}'-0.31069946'\n",
       "\\item ' \\textbackslash{}'-1.348114\\textbackslash{}'{]}'\n",
       "\\end{enumerate*}\n",
       "\n",
       "\\item \\begin{enumerate*}\n",
       "\\item '{[}\\textbackslash{}'0.767395'\n",
       "\\item ' \\textbackslash{}'1.4823456'\n",
       "\\item ' \\textbackslash{}'3.1717987\\textbackslash{}'{]}'\n",
       "\\end{enumerate*}\n",
       "\n",
       "\\item \\begin{enumerate*}\n",
       "\\item '{[}\\textbackslash{}'0.045791626'\n",
       "\\item ' \\textbackslash{}'0.023895264'\n",
       "\\item ' \\textbackslash{}'-0.0072784424\\textbackslash{}'{]}'\n",
       "\\end{enumerate*}\n",
       "\n",
       "\\item \\begin{enumerate*}\n",
       "\\item '{[}\\textbackslash{}'0.94944763'\n",
       "\\item ' \\textbackslash{}'-2.2355347'\n",
       "\\item ' \\textbackslash{}'2.74292\\textbackslash{}'{]}'\n",
       "\\end{enumerate*}\n",
       "\n",
       "\\item \\begin{enumerate*}\n",
       "\\item '{[}\\textbackslash{}'1.2572021'\n",
       "\\item ' \\textbackslash{}'-0.6462555'\n",
       "\\item ' \\textbackslash{}'-0.8005676\\textbackslash{}'{]}'\n",
       "\\end{enumerate*}\n",
       "\n",
       "\\item \\begin{enumerate*}\n",
       "\\item '{[}\\textbackslash{}'-0.27667236'\n",
       "\\item ' \\textbackslash{}'0.45085144'\n",
       "\\item ' \\textbackslash{}'0.8242798\\textbackslash{}'{]}'\n",
       "\\end{enumerate*}\n",
       "\n",
       "\\item \\begin{enumerate*}\n",
       "\\item '{[}\\textbackslash{}'0.8366394'\n",
       "\\item ' \\textbackslash{}'-1.401001'\n",
       "\\item ' \\textbackslash{}'-1.5920715\\textbackslash{}'{]}'\n",
       "\\end{enumerate*}\n",
       "\n",
       "\\item \\begin{enumerate*}\n",
       "\\item '{[}\\textbackslash{}'-0.32269287'\n",
       "\\item ' \\textbackslash{}'-0.57818604'\n",
       "\\item ' \\textbackslash{}'-2.6925812\\textbackslash{}'{]}'\n",
       "\\end{enumerate*}\n",
       "\n",
       "\\end{enumerate}\n"
      ],
      "text/markdown": [
       "1. 1. '[\\'-0.3515625'\n",
       "2. ' \\'0.68681335'\n",
       "3. ' \\'0.4768982\\']'\n",
       "\n",
       "\n",
       "\n",
       "2. 1. '[\\'-0.08087158'\n",
       "2. ' \\'-0.014450073'\n",
       "3. ' \\'-0.21063232\\']'\n",
       "\n",
       "\n",
       "\n",
       "3. 1. '[\\'0.58576965'\n",
       "2. ' \\'-0.8377991'\n",
       "3. ' \\'-1.6647186\\']'\n",
       "\n",
       "\n",
       "\n",
       "4. 1. '[\\'0.55371094'\n",
       "2. ' \\'0.86172485'\n",
       "3. ' \\'2.2135925\\']'\n",
       "\n",
       "\n",
       "\n",
       "5. 1. '[\\'0.49180603'\n",
       "2. ' \\'-0.7094269'\n",
       "3. ' \\'-1.9339142\\']'\n",
       "\n",
       "\n",
       "\n",
       "6. 1. '[\\'-1.0274658'\n",
       "2. ' \\'0.7282562'\n",
       "3. ' \\'0.86624146\\']'\n",
       "\n",
       "\n",
       "\n",
       "7. 1. '[\\'-1.3852844'\n",
       "2. ' \\'1.3186188'\n",
       "3. ' \\'1.4363708\\']'\n",
       "\n",
       "\n",
       "\n",
       "8. 1. '[\\'-0.003112793'\n",
       "2. ' \\'-0.31069946'\n",
       "3. ' \\'-1.348114\\']'\n",
       "\n",
       "\n",
       "\n",
       "9. 1. '[\\'0.767395'\n",
       "2. ' \\'1.4823456'\n",
       "3. ' \\'3.1717987\\']'\n",
       "\n",
       "\n",
       "\n",
       "10. 1. '[\\'0.045791626'\n",
       "2. ' \\'0.023895264'\n",
       "3. ' \\'-0.0072784424\\']'\n",
       "\n",
       "\n",
       "\n",
       "11. 1. '[\\'0.94944763'\n",
       "2. ' \\'-2.2355347'\n",
       "3. ' \\'2.74292\\']'\n",
       "\n",
       "\n",
       "\n",
       "12. 1. '[\\'1.2572021'\n",
       "2. ' \\'-0.6462555'\n",
       "3. ' \\'-0.8005676\\']'\n",
       "\n",
       "\n",
       "\n",
       "13. 1. '[\\'-0.27667236'\n",
       "2. ' \\'0.45085144'\n",
       "3. ' \\'0.8242798\\']'\n",
       "\n",
       "\n",
       "\n",
       "14. 1. '[\\'0.8366394'\n",
       "2. ' \\'-1.401001'\n",
       "3. ' \\'-1.5920715\\']'\n",
       "\n",
       "\n",
       "\n",
       "15. 1. '[\\'-0.32269287'\n",
       "2. ' \\'-0.57818604'\n",
       "3. ' \\'-2.6925812\\']'\n",
       "\n",
       "\n",
       "\n",
       "\n",
       "\n"
      ],
      "text/plain": [
       "[[1]]\n",
       "[1] \"['-0.3515625\"  \" '0.68681335\"  \" '0.4768982']\"\n",
       "\n",
       "[[2]]\n",
       "[1] \"['-0.08087158\"   \" '-0.014450073\"  \" '-0.21063232']\"\n",
       "\n",
       "[[3]]\n",
       "[1] \"['0.58576965\"   \" '-0.8377991\"   \" '-1.6647186']\"\n",
       "\n",
       "[[4]]\n",
       "[1] \"['0.55371094\"  \" '0.86172485\"  \" '2.2135925']\"\n",
       "\n",
       "[[5]]\n",
       "[1] \"['0.49180603\"   \" '-0.7094269\"   \" '-1.9339142']\"\n",
       "\n",
       "[[6]]\n",
       "[1] \"['-1.0274658\"   \" '0.7282562\"    \" '0.86624146']\"\n",
       "\n",
       "[[7]]\n",
       "[1] \"['-1.3852844\"  \" '1.3186188\"   \" '1.4363708']\"\n",
       "\n",
       "[[8]]\n",
       "[1] \"['-0.003112793\" \" '-0.31069946\"  \" '-1.348114']\" \n",
       "\n",
       "[[9]]\n",
       "[1] \"['0.767395\"    \" '1.4823456\"   \" '3.1717987']\"\n",
       "\n",
       "[[10]]\n",
       "[1] \"['0.045791626\"     \" '0.023895264\"     \" '-0.0072784424']\"\n",
       "\n",
       "[[11]]\n",
       "[1] \"['0.94944763\" \" '-2.2355347\" \" '2.74292']\" \n",
       "\n",
       "[[12]]\n",
       "[1] \"['1.2572021\"    \" '-0.6462555\"   \" '-0.8005676']\"\n",
       "\n",
       "[[13]]\n",
       "[1] \"['-0.27667236\" \" '0.45085144\"  \" '0.8242798']\"\n",
       "\n",
       "[[14]]\n",
       "[1] \"['0.8366394\"    \" '-1.401001\"    \" '-1.5920715']\"\n",
       "\n",
       "[[15]]\n",
       "[1] \"['-0.32269287\"  \" '-0.57818604\"  \" '-2.6925812']\"\n"
      ]
     },
     "metadata": {},
     "output_type": "display_data"
    },
    {
     "name": "stdout",
     "output_type": "stream",
     "text": [
      "[1] \"Strings\"\n"
     ]
    },
    {
     "data": {
      "text/html": [
       "<ol class=list-inline>\n",
       "\t<li>'[\\'-0.3515625'</li>\n",
       "\t<li>' \\'0.68681335'</li>\n",
       "\t<li>' \\'0.4768982\\']'</li>\n",
       "</ol>\n"
      ],
      "text/latex": [
       "\\begin{enumerate*}\n",
       "\\item '{[}\\textbackslash{}'-0.3515625'\n",
       "\\item ' \\textbackslash{}'0.68681335'\n",
       "\\item ' \\textbackslash{}'0.4768982\\textbackslash{}'{]}'\n",
       "\\end{enumerate*}\n"
      ],
      "text/markdown": [
       "1. '[\\'-0.3515625'\n",
       "2. ' \\'0.68681335'\n",
       "3. ' \\'0.4768982\\']'\n",
       "\n",
       "\n"
      ],
      "text/plain": [
       "[1] \"['-0.3515625\"  \" '0.68681335\"  \" '0.4768982']\""
      ]
     },
     "metadata": {},
     "output_type": "display_data"
    },
    {
     "name": "stdout",
     "output_type": "stream",
     "text": [
      "[1] \"x y and z seperate\"\n"
     ]
    },
    {
     "data": {
      "text/html": [
       "'[\\'-0.3515625'"
      ],
      "text/latex": [
       "'{[}\\textbackslash{}'-0.3515625'"
      ],
      "text/markdown": [
       "'[\\'-0.3515625'"
      ],
      "text/plain": [
       "[1] \"['-0.3515625\""
      ]
     },
     "metadata": {},
     "output_type": "display_data"
    },
    {
     "data": {
      "text/html": [
       "' \\'0.68681335'"
      ],
      "text/latex": [
       "' \\textbackslash{}'0.68681335'"
      ],
      "text/markdown": [
       "' \\'0.68681335'"
      ],
      "text/plain": [
       "[1] \" '0.68681335\""
      ]
     },
     "metadata": {},
     "output_type": "display_data"
    },
    {
     "data": {
      "text/html": [
       "' \\'0.4768982\\']'"
      ],
      "text/latex": [
       "' \\textbackslash{}'0.4768982\\textbackslash{}'{]}'"
      ],
      "text/markdown": [
       "' \\'0.4768982\\']'"
      ],
      "text/plain": [
       "[1] \" '0.4768982']\""
      ]
     },
     "metadata": {},
     "output_type": "display_data"
    },
    {
     "name": "stdout",
     "output_type": "stream",
     "text": [
      "[1] \"Post Pruning\"\n"
     ]
    },
    {
     "data": {
      "text/html": [
       "-0.3515625"
      ],
      "text/latex": [
       "-0.3515625"
      ],
      "text/markdown": [
       "-0.3515625"
      ],
      "text/plain": [
       "[1] -0.3515625"
      ]
     },
     "metadata": {},
     "output_type": "display_data"
    },
    {
     "data": {
      "text/html": [
       "0.68681335"
      ],
      "text/latex": [
       "0.68681335"
      ],
      "text/markdown": [
       "0.68681335"
      ],
      "text/plain": [
       "[1] 0.6868133"
      ]
     },
     "metadata": {},
     "output_type": "display_data"
    },
    {
     "data": {
      "text/html": [
       "0.4768982"
      ],
      "text/latex": [
       "0.4768982"
      ],
      "text/markdown": [
       "0.4768982"
      ],
      "text/plain": [
       "[1] 0.4768982"
      ]
     },
     "metadata": {},
     "output_type": "display_data"
    },
    {
     "data": {
      "text/html": [
       "'character'"
      ],
      "text/latex": [
       "'character'"
      ],
      "text/markdown": [
       "'character'"
      ],
      "text/plain": [
       "[1] \"character\""
      ]
     },
     "metadata": {},
     "output_type": "display_data"
    }
   ],
   "source": [
    "head(gyro_xyz, n=15)\n",
    "\n",
    "print(\"Strings\")\n",
    "gyro_xyz[[1]]\n",
    "\n",
    "print(\"x y and z seperate\")\n",
    "gyro_xyz[[1]][1]\n",
    "gyro_xyz[[1]][2]\n",
    "gyro_xyz[[1]][3]\n",
    "\n",
    "print(\"Post Pruning\")\n",
    "as.numeric(substr(gyro_xyz[[1]][[1]], 3, nchar(gyro_xyz[[1]][[1]])))\n",
    "as.numeric(substr(gyro_xyz[[1]][[2]], 3, nchar(gyro_xyz[[1]][[2]])))\n",
    "as.numeric(substr(gyro_xyz[[1]][[3]], 3, nchar(gyro_xyz[[1]][[3]])-2))\n",
    "\n",
    "for(i in seq_along(gyro_xyz)){\n",
    "    gyro_xyz[[i]][[1]]<-as.numeric(substr(gyro_xyz[[i]][[1]], 3, nchar(gyro_xyz[[i]][[1]])))\n",
    "    gyro_xyz[[i]][[2]]<-as.numeric(substr(gyro_xyz[[i]][[2]], 3, nchar(gyro_xyz[[i]][[2]])))\n",
    "    gyro_xyz[[i]][[3]]<-as.numeric(substr(gyro_xyz[[i]][[3]], 3, nchar(gyro_xyz[[i]][[3]])-2))\n",
    "}\n",
    "\n",
    "typeof(gyro_xyz[[1]][[1]])"
   ]
  },
  {
   "cell_type": "code",
   "execution_count": 142,
   "metadata": {},
   "outputs": [],
   "source": [
    "test_1_gyro$x <-as.numeric(gyro_xyz[[1]])\n",
    "test_1_gyro$y <-as.numeric(gyro_xyz[[2]])\n",
    "test_1_gyro$z <-as.numeric(gyro_xyz[[3]])"
   ]
  },
  {
   "cell_type": "code",
   "execution_count": 143,
   "metadata": {},
   "outputs": [
    {
     "data": {
      "text/html": [
       "<table>\n",
       "<thead><tr><th></th><th scope=col>index</th><th scope=col>source</th><th scope=col>timestamp</th><th scope=col>values</th><th scope=col>timestamp_short</th><th scope=col>eventID</th><th scope=col>from</th><th scope=col>to</th><th scope=col>duration</th><th scope=col>activity_type</th><th scope=col>char</th><th scope=col>x</th><th scope=col>y</th><th scope=col>z</th></tr></thead>\n",
       "<tbody>\n",
       "\t<tr><th scope=row>3</th><td>169367                                        </td><td>gyroscope                                     </td><td>2017-06-29 09:57:08.396                       </td><td>['-0.3515625', '0.68681335', '0.4768982']     </td><td>2017-06-29 09:57:08                           </td><td>12                                            </td><td>2017-06-29 09:57                              </td><td>2017-06-29 10:17                              </td><td>20                                            </td><td>Eat                                           </td><td>['-0.3515625', '0.68681335', '0.4768982']     </td><td>-0.3515625                                    </td><td>-0.08087158                                   </td><td> 0.5857697                                    </td></tr>\n",
       "\t<tr><th scope=row>17</th><td>169381                                        </td><td>gyroscope                                     </td><td>2017-06-29 09:57:13.465                       </td><td>['-0.08087158', '-0.014450073', '-0.21063232']</td><td>2017-06-29 09:57:13                           </td><td>12                                            </td><td>2017-06-29 09:57                              </td><td>2017-06-29 10:17                              </td><td>20                                            </td><td>Eat                                           </td><td>['-0.08087158', '-0.014450073', '-0.21063232']</td><td> 0.6868133                                    </td><td>-0.01445007                                   </td><td>-0.8377991                                    </td></tr>\n",
       "\t<tr><th scope=row>34</th><td>169398                                        </td><td>gyroscope                                     </td><td>2017-06-29 09:57:18.586                       </td><td>['0.58576965', '-0.8377991', '-1.6647186']    </td><td>2017-06-29 09:57:18                           </td><td>12                                            </td><td>2017-06-29 09:57                              </td><td>2017-06-29 10:17                              </td><td>20                                            </td><td>Eat                                           </td><td>['0.58576965', '-0.8377991', '-1.6647186']    </td><td> 0.4768982                                    </td><td>-0.21063232                                   </td><td>-1.6647186                                    </td></tr>\n",
       "\t<tr><th scope=row>56</th><td>169420                                        </td><td>gyroscope                                     </td><td>2017-06-29 09:57:24.137                       </td><td>['0.55371094', '0.86172485', '2.2135925']     </td><td>2017-06-29 09:57:24                           </td><td>12                                            </td><td>2017-06-29 09:57                              </td><td>2017-06-29 10:17                              </td><td>20                                            </td><td>Eat                                           </td><td>['0.55371094', '0.86172485', '2.2135925']     </td><td>-0.3515625                                    </td><td>-0.08087158                                   </td><td> 0.5857697                                    </td></tr>\n",
       "\t<tr><th scope=row>73</th><td>169437                                        </td><td>gyroscope                                     </td><td>2017-06-29 09:57:29.282                       </td><td>['0.49180603', '-0.7094269', '-1.9339142']    </td><td>2017-06-29 09:57:29                           </td><td>12                                            </td><td>2017-06-29 09:57                              </td><td>2017-06-29 10:17                              </td><td>20                                            </td><td>Eat                                           </td><td>['0.49180603', '-0.7094269', '-1.9339142']    </td><td> 0.6868133                                    </td><td>-0.01445007                                   </td><td>-0.8377991                                    </td></tr>\n",
       "\t<tr><th scope=row>94</th><td>169458                                        </td><td>gyroscope                                     </td><td>2017-06-29 09:57:57.001                       </td><td>['-1.0274658', '0.7282562', '0.86624146']     </td><td>2017-06-29 09:57:57                           </td><td>12                                            </td><td>2017-06-29 09:57                              </td><td>2017-06-29 10:17                              </td><td>20                                            </td><td>Eat                                           </td><td>['-1.0274658', '0.7282562', '0.86624146']     </td><td> 0.4768982                                    </td><td>-0.21063232                                   </td><td>-1.6647186                                    </td></tr>\n",
       "</tbody>\n",
       "</table>\n"
      ],
      "text/latex": [
       "\\begin{tabular}{r|llllllllllllll}\n",
       "  & index & source & timestamp & values & timestamp\\_short & eventID & from & to & duration & activity\\_type & char & x & y & z\\\\\n",
       "\\hline\n",
       "\t3 & 169367                                             & gyroscope                                          & 2017-06-29 09:57:08.396                            & {[}'-0.3515625', '0.68681335', '0.4768982'{]}      & 2017-06-29 09:57:08                                & 12                                                 & 2017-06-29 09:57                                   & 2017-06-29 10:17                                   & 20                                                 & Eat                                                & {[}'-0.3515625', '0.68681335', '0.4768982'{]}      & -0.3515625                                         & -0.08087158                                        &  0.5857697                                        \\\\\n",
       "\t17 & 169381                                             & gyroscope                                          & 2017-06-29 09:57:13.465                            & {[}'-0.08087158', '-0.014450073', '-0.21063232'{]} & 2017-06-29 09:57:13                                & 12                                                 & 2017-06-29 09:57                                   & 2017-06-29 10:17                                   & 20                                                 & Eat                                                & {[}'-0.08087158', '-0.014450073', '-0.21063232'{]} &  0.6868133                                         & -0.01445007                                        & -0.8377991                                        \\\\\n",
       "\t34 & 169398                                             & gyroscope                                          & 2017-06-29 09:57:18.586                            & {[}'0.58576965', '-0.8377991', '-1.6647186'{]}     & 2017-06-29 09:57:18                                & 12                                                 & 2017-06-29 09:57                                   & 2017-06-29 10:17                                   & 20                                                 & Eat                                                & {[}'0.58576965', '-0.8377991', '-1.6647186'{]}     &  0.4768982                                         & -0.21063232                                        & -1.6647186                                        \\\\\n",
       "\t56 & 169420                                             & gyroscope                                          & 2017-06-29 09:57:24.137                            & {[}'0.55371094', '0.86172485', '2.2135925'{]}      & 2017-06-29 09:57:24                                & 12                                                 & 2017-06-29 09:57                                   & 2017-06-29 10:17                                   & 20                                                 & Eat                                                & {[}'0.55371094', '0.86172485', '2.2135925'{]}      & -0.3515625                                         & -0.08087158                                        &  0.5857697                                        \\\\\n",
       "\t73 & 169437                                             & gyroscope                                          & 2017-06-29 09:57:29.282                            & {[}'0.49180603', '-0.7094269', '-1.9339142'{]}     & 2017-06-29 09:57:29                                & 12                                                 & 2017-06-29 09:57                                   & 2017-06-29 10:17                                   & 20                                                 & Eat                                                & {[}'0.49180603', '-0.7094269', '-1.9339142'{]}     &  0.6868133                                         & -0.01445007                                        & -0.8377991                                        \\\\\n",
       "\t94 & 169458                                             & gyroscope                                          & 2017-06-29 09:57:57.001                            & {[}'-1.0274658', '0.7282562', '0.86624146'{]}      & 2017-06-29 09:57:57                                & 12                                                 & 2017-06-29 09:57                                   & 2017-06-29 10:17                                   & 20                                                 & Eat                                                & {[}'-1.0274658', '0.7282562', '0.86624146'{]}      &  0.4768982                                         & -0.21063232                                        & -1.6647186                                        \\\\\n",
       "\\end{tabular}\n"
      ],
      "text/markdown": [
       "\n",
       "| <!--/--> | index | source | timestamp | values | timestamp_short | eventID | from | to | duration | activity_type | char | x | y | z | \n",
       "|---|---|---|---|---|---|\n",
       "| 3 | 169367                                         | gyroscope                                      | 2017-06-29 09:57:08.396                        | ['-0.3515625', '0.68681335', '0.4768982']      | 2017-06-29 09:57:08                            | 12                                             | 2017-06-29 09:57                               | 2017-06-29 10:17                               | 20                                             | Eat                                            | ['-0.3515625', '0.68681335', '0.4768982']      | -0.3515625                                     | -0.08087158                                    |  0.5857697                                     | \n",
       "| 17 | 169381                                         | gyroscope                                      | 2017-06-29 09:57:13.465                        | ['-0.08087158', '-0.014450073', '-0.21063232'] | 2017-06-29 09:57:13                            | 12                                             | 2017-06-29 09:57                               | 2017-06-29 10:17                               | 20                                             | Eat                                            | ['-0.08087158', '-0.014450073', '-0.21063232'] |  0.6868133                                     | -0.01445007                                    | -0.8377991                                     | \n",
       "| 34 | 169398                                         | gyroscope                                      | 2017-06-29 09:57:18.586                        | ['0.58576965', '-0.8377991', '-1.6647186']     | 2017-06-29 09:57:18                            | 12                                             | 2017-06-29 09:57                               | 2017-06-29 10:17                               | 20                                             | Eat                                            | ['0.58576965', '-0.8377991', '-1.6647186']     |  0.4768982                                     | -0.21063232                                    | -1.6647186                                     | \n",
       "| 56 | 169420                                         | gyroscope                                      | 2017-06-29 09:57:24.137                        | ['0.55371094', '0.86172485', '2.2135925']      | 2017-06-29 09:57:24                            | 12                                             | 2017-06-29 09:57                               | 2017-06-29 10:17                               | 20                                             | Eat                                            | ['0.55371094', '0.86172485', '2.2135925']      | -0.3515625                                     | -0.08087158                                    |  0.5857697                                     | \n",
       "| 73 | 169437                                         | gyroscope                                      | 2017-06-29 09:57:29.282                        | ['0.49180603', '-0.7094269', '-1.9339142']     | 2017-06-29 09:57:29                            | 12                                             | 2017-06-29 09:57                               | 2017-06-29 10:17                               | 20                                             | Eat                                            | ['0.49180603', '-0.7094269', '-1.9339142']     |  0.6868133                                     | -0.01445007                                    | -0.8377991                                     | \n",
       "| 94 | 169458                                         | gyroscope                                      | 2017-06-29 09:57:57.001                        | ['-1.0274658', '0.7282562', '0.86624146']      | 2017-06-29 09:57:57                            | 12                                             | 2017-06-29 09:57                               | 2017-06-29 10:17                               | 20                                             | Eat                                            | ['-1.0274658', '0.7282562', '0.86624146']      |  0.4768982                                     | -0.21063232                                    | -1.6647186                                     | \n",
       "\n",
       "\n"
      ],
      "text/plain": [
       "   index  source    timestamp              \n",
       "3  169367 gyroscope 2017-06-29 09:57:08.396\n",
       "17 169381 gyroscope 2017-06-29 09:57:13.465\n",
       "34 169398 gyroscope 2017-06-29 09:57:18.586\n",
       "56 169420 gyroscope 2017-06-29 09:57:24.137\n",
       "73 169437 gyroscope 2017-06-29 09:57:29.282\n",
       "94 169458 gyroscope 2017-06-29 09:57:57.001\n",
       "   values                                         timestamp_short     eventID\n",
       "3  ['-0.3515625', '0.68681335', '0.4768982']      2017-06-29 09:57:08 12     \n",
       "17 ['-0.08087158', '-0.014450073', '-0.21063232'] 2017-06-29 09:57:13 12     \n",
       "34 ['0.58576965', '-0.8377991', '-1.6647186']     2017-06-29 09:57:18 12     \n",
       "56 ['0.55371094', '0.86172485', '2.2135925']      2017-06-29 09:57:24 12     \n",
       "73 ['0.49180603', '-0.7094269', '-1.9339142']     2017-06-29 09:57:29 12     \n",
       "94 ['-1.0274658', '0.7282562', '0.86624146']      2017-06-29 09:57:57 12     \n",
       "   from             to               duration activity_type\n",
       "3  2017-06-29 09:57 2017-06-29 10:17 20       Eat          \n",
       "17 2017-06-29 09:57 2017-06-29 10:17 20       Eat          \n",
       "34 2017-06-29 09:57 2017-06-29 10:17 20       Eat          \n",
       "56 2017-06-29 09:57 2017-06-29 10:17 20       Eat          \n",
       "73 2017-06-29 09:57 2017-06-29 10:17 20       Eat          \n",
       "94 2017-06-29 09:57 2017-06-29 10:17 20       Eat          \n",
       "   char                                           x          y          \n",
       "3  ['-0.3515625', '0.68681335', '0.4768982']      -0.3515625 -0.08087158\n",
       "17 ['-0.08087158', '-0.014450073', '-0.21063232']  0.6868133 -0.01445007\n",
       "34 ['0.58576965', '-0.8377991', '-1.6647186']      0.4768982 -0.21063232\n",
       "56 ['0.55371094', '0.86172485', '2.2135925']      -0.3515625 -0.08087158\n",
       "73 ['0.49180603', '-0.7094269', '-1.9339142']      0.6868133 -0.01445007\n",
       "94 ['-1.0274658', '0.7282562', '0.86624146']       0.4768982 -0.21063232\n",
       "   z         \n",
       "3   0.5857697\n",
       "17 -0.8377991\n",
       "34 -1.6647186\n",
       "56  0.5857697\n",
       "73 -0.8377991\n",
       "94 -1.6647186"
      ]
     },
     "metadata": {},
     "output_type": "display_data"
    }
   ],
   "source": [
    "head(test_1_gyro)"
   ]
  },
  {
   "cell_type": "markdown",
   "metadata": {},
   "source": [
    "# Engineered features by activity type"
   ]
  },
  {
   "cell_type": "code",
   "execution_count": 169,
   "metadata": {
    "scrolled": false
   },
   "outputs": [],
   "source": [
    "#Write csv for excel analysis as well\n",
    "write.csv(test_1_gyro, \"test_1_gyro.csv\")\n",
    "\n",
    "library(plyr)\n",
    "#aggregate mean\n",
    "gyro_mean <- ddply(select(test_1_gyro, activity_type, x, y, z, eventID), .(activity_type, eventID), colwise(mean))\n",
    "\n",
    "#aggregate standard deviation\n",
    "gyro_std <- ddply(select(test_1_gyro, activity_type, x, y, z, eventID), .(activity_type, eventID), colwise(sd))\n",
    "gyro_duration <- ddply(test_1_gyro, .(activity_type, eventID),nrow)\n",
    "\n",
    "\n",
    "#aggregate percent more than 2 standard deviation\n",
    "#gyro_mean$lower_x <- gyro_mean$x - gyro_std$x*2\n",
    "#gyro_mean$upper_x <- gyro_mean$x + gyro_std$x*2\n",
    "\n",
    "#compute_perc_upper <- function(x, LB, UP) count(x<LB || x > UP)"
   ]
  },
  {
   "cell_type": "code",
   "execution_count": 190,
   "metadata": {},
   "outputs": [
    {
     "data": {
      "text/html": [
       "<table>\n",
       "<thead><tr><th scope=col>activity_type</th><th scope=col>eventID</th><th scope=col>x</th><th scope=col>y</th><th scope=col>z</th></tr></thead>\n",
       "<tbody>\n",
       "\t<tr><td>At home   </td><td> 1        </td><td>0.2707163 </td><td>-0.1019847</td><td>-0.6389160</td></tr>\n",
       "\t<tr><td>At home   </td><td> 2        </td><td>0.2816335 </td><td>-0.1023551</td><td>-0.6604017</td></tr>\n",
       "\t<tr><td>At home   </td><td> 5        </td><td>0.2361426 </td><td>-0.1010316</td><td>-0.5722147</td></tr>\n",
       "\t<tr><td>At home   </td><td> 9        </td><td>0.2379648 </td><td>-0.1008734</td><td>-0.5744589</td></tr>\n",
       "\t<tr><td>At home   </td><td>10        </td><td>0.2707163 </td><td>-0.1019847</td><td>-0.6389160</td></tr>\n",
       "\t<tr><td>At home   </td><td>11        </td><td>0.2766606 </td><td>-0.1007342</td><td>-0.6417572</td></tr>\n",
       "</tbody>\n",
       "</table>\n"
      ],
      "text/latex": [
       "\\begin{tabular}{r|lllll}\n",
       " activity\\_type & eventID & x & y & z\\\\\n",
       "\\hline\n",
       "\t At home    &  1         & 0.2707163  & -0.1019847 & -0.6389160\\\\\n",
       "\t At home    &  2         & 0.2816335  & -0.1023551 & -0.6604017\\\\\n",
       "\t At home    &  5         & 0.2361426  & -0.1010316 & -0.5722147\\\\\n",
       "\t At home    &  9         & 0.2379648  & -0.1008734 & -0.5744589\\\\\n",
       "\t At home    & 10         & 0.2707163  & -0.1019847 & -0.6389160\\\\\n",
       "\t At home    & 11         & 0.2766606  & -0.1007342 & -0.6417572\\\\\n",
       "\\end{tabular}\n"
      ],
      "text/markdown": [
       "\n",
       "activity_type | eventID | x | y | z | \n",
       "|---|---|---|---|---|---|\n",
       "| At home    |  1         | 0.2707163  | -0.1019847 | -0.6389160 | \n",
       "| At home    |  2         | 0.2816335  | -0.1023551 | -0.6604017 | \n",
       "| At home    |  5         | 0.2361426  | -0.1010316 | -0.5722147 | \n",
       "| At home    |  9         | 0.2379648  | -0.1008734 | -0.5744589 | \n",
       "| At home    | 10         | 0.2707163  | -0.1019847 | -0.6389160 | \n",
       "| At home    | 11         | 0.2766606  | -0.1007342 | -0.6417572 | \n",
       "\n",
       "\n"
      ],
      "text/plain": [
       "  activity_type eventID x         y          z         \n",
       "1 At home        1      0.2707163 -0.1019847 -0.6389160\n",
       "2 At home        2      0.2816335 -0.1023551 -0.6604017\n",
       "3 At home        5      0.2361426 -0.1010316 -0.5722147\n",
       "4 At home        9      0.2379648 -0.1008734 -0.5744589\n",
       "5 At home       10      0.2707163 -0.1019847 -0.6389160\n",
       "6 At home       11      0.2766606 -0.1007342 -0.6417572"
      ]
     },
     "metadata": {},
     "output_type": "display_data"
    },
    {
     "data": {
      "text/html": [
       "<table>\n",
       "<thead><tr><th scope=col>activity_type</th><th scope=col>eventID, x_sd</th><th scope=col>y_sd</th><th scope=col>z_sd</th><th scope=col>NA</th></tr></thead>\n",
       "<tbody>\n",
       "\t<tr><td>At home   </td><td> 1        </td><td>0.4498833 </td><td>0.08176106</td><td>0.9327723 </td></tr>\n",
       "\t<tr><td>At home   </td><td> 2        </td><td>0.4457966 </td><td>0.08237494</td><td>0.9258985 </td></tr>\n",
       "\t<tr><td>At home   </td><td> 5        </td><td>0.4586495 </td><td>0.07945407</td><td>0.9474096 </td></tr>\n",
       "\t<tr><td>At home   </td><td> 9        </td><td>0.4704680 </td><td>0.08161447</td><td>0.9709960 </td></tr>\n",
       "\t<tr><td>At home   </td><td>10        </td><td>0.4492461 </td><td>0.08164525</td><td>0.9314511 </td></tr>\n",
       "\t<tr><td>At home   </td><td>11        </td><td>0.4510354 </td><td>0.08213965</td><td>0.9297626 </td></tr>\n",
       "</tbody>\n",
       "</table>\n"
      ],
      "text/latex": [
       "\\begin{tabular}{r|lllll}\n",
       " activity\\_type & eventID, x\\_sd & y\\_sd & z\\_sd & NA\\\\\n",
       "\\hline\n",
       "\t At home    &  1         & 0.4498833  & 0.08176106 & 0.9327723 \\\\\n",
       "\t At home    &  2         & 0.4457966  & 0.08237494 & 0.9258985 \\\\\n",
       "\t At home    &  5         & 0.4586495  & 0.07945407 & 0.9474096 \\\\\n",
       "\t At home    &  9         & 0.4704680  & 0.08161447 & 0.9709960 \\\\\n",
       "\t At home    & 10         & 0.4492461  & 0.08164525 & 0.9314511 \\\\\n",
       "\t At home    & 11         & 0.4510354  & 0.08213965 & 0.9297626 \\\\\n",
       "\\end{tabular}\n"
      ],
      "text/markdown": [
       "\n",
       "activity_type | eventID, x_sd | y_sd | z_sd | NA | \n",
       "|---|---|---|---|---|---|\n",
       "| At home    |  1         | 0.4498833  | 0.08176106 | 0.9327723  | \n",
       "| At home    |  2         | 0.4457966  | 0.08237494 | 0.9258985  | \n",
       "| At home    |  5         | 0.4586495  | 0.07945407 | 0.9474096  | \n",
       "| At home    |  9         | 0.4704680  | 0.08161447 | 0.9709960  | \n",
       "| At home    | 10         | 0.4492461  | 0.08164525 | 0.9314511  | \n",
       "| At home    | 11         | 0.4510354  | 0.08213965 | 0.9297626  | \n",
       "\n",
       "\n"
      ],
      "text/plain": [
       "  activity_type eventID, x_sd y_sd      z_sd       <NA>     \n",
       "1 At home        1            0.4498833 0.08176106 0.9327723\n",
       "2 At home        2            0.4457966 0.08237494 0.9258985\n",
       "3 At home        5            0.4586495 0.07945407 0.9474096\n",
       "4 At home        9            0.4704680 0.08161447 0.9709960\n",
       "5 At home       10            0.4492461 0.08164525 0.9314511\n",
       "6 At home       11            0.4510354 0.08213965 0.9297626"
      ]
     },
     "metadata": {},
     "output_type": "display_data"
    },
    {
     "data": {
      "text/html": [
       "<table>\n",
       "<thead><tr><th scope=col>activity_type</th><th scope=col>eventID</th><th scope=col>duration</th></tr></thead>\n",
       "<tbody>\n",
       "\t<tr><td>At home</td><td> 1     </td><td>141    </td></tr>\n",
       "\t<tr><td>At home</td><td> 2     </td><td>171    </td></tr>\n",
       "\t<tr><td>At home</td><td> 5     </td><td>462    </td></tr>\n",
       "\t<tr><td>At home</td><td> 9     </td><td> 19    </td></tr>\n",
       "\t<tr><td>At home</td><td>10     </td><td>234    </td></tr>\n",
       "\t<tr><td>At home</td><td>11     </td><td> 70    </td></tr>\n",
       "</tbody>\n",
       "</table>\n"
      ],
      "text/latex": [
       "\\begin{tabular}{r|lll}\n",
       " activity\\_type & eventID & duration\\\\\n",
       "\\hline\n",
       "\t At home &  1      & 141    \\\\\n",
       "\t At home &  2      & 171    \\\\\n",
       "\t At home &  5      & 462    \\\\\n",
       "\t At home &  9      &  19    \\\\\n",
       "\t At home & 10      & 234    \\\\\n",
       "\t At home & 11      &  70    \\\\\n",
       "\\end{tabular}\n"
      ],
      "text/markdown": [
       "\n",
       "activity_type | eventID | duration | \n",
       "|---|---|---|---|---|---|\n",
       "| At home |  1      | 141     | \n",
       "| At home |  2      | 171     | \n",
       "| At home |  5      | 462     | \n",
       "| At home |  9      |  19     | \n",
       "| At home | 10      | 234     | \n",
       "| At home | 11      |  70     | \n",
       "\n",
       "\n"
      ],
      "text/plain": [
       "  activity_type eventID duration\n",
       "1 At home        1      141     \n",
       "2 At home        2      171     \n",
       "3 At home        5      462     \n",
       "4 At home        9       19     \n",
       "5 At home       10      234     \n",
       "6 At home       11       70     "
      ]
     },
     "metadata": {},
     "output_type": "display_data"
    }
   ],
   "source": [
    "head(gyro_mean)\n",
    "head(gyro_std)\n",
    "names(gyro_std) <-c(\"activity_type\", \"eventID, x_sd\", \"y_sd\", \"z_sd\")\n",
    "head(gyro_duration)\n",
    "names(gyro_duration) <-c(\"activity_type\", \"eventID\", \"duration\")\n",
    "#lets see if we can use a decision tree to predict activity based on gyroscope features"
   ]
  },
  {
   "cell_type": "code",
   "execution_count": 210,
   "metadata": {},
   "outputs": [],
   "source": [
    "AllFeatures<-cbind(gyro_mean,gyro_std[,2:5] ,gyro_duration[,3])\n",
    "names(AllFeatures) <- c(\"activity\",\"type\", \"eventID\", \"x\", \"y\", \"z\", \"x_std\", \"y_std\", \"z_std\", \"duration\")"
   ]
  },
  {
   "cell_type": "code",
   "execution_count": 211,
   "metadata": {},
   "outputs": [
    {
     "data": {
      "text/html": [
       "<table>\n",
       "<thead><tr><th scope=col>activity</th><th scope=col>type</th><th scope=col>eventID</th><th scope=col>x</th><th scope=col>y</th><th scope=col>z</th><th scope=col>x_std</th><th scope=col>y_std</th><th scope=col>z_std</th><th scope=col>duration</th></tr></thead>\n",
       "<tbody>\n",
       "\t<tr><td>At home   </td><td> 1        </td><td>0.2707163 </td><td>-0.1019847</td><td>-0.6389160</td><td> 1        </td><td>0.4498833 </td><td>0.08176106</td><td>0.9327723 </td><td>141       </td></tr>\n",
       "\t<tr><td>At home   </td><td> 2        </td><td>0.2816335 </td><td>-0.1023551</td><td>-0.6604017</td><td> 2        </td><td>0.4457966 </td><td>0.08237494</td><td>0.9258985 </td><td>171       </td></tr>\n",
       "\t<tr><td>At home   </td><td> 5        </td><td>0.2361426 </td><td>-0.1010316</td><td>-0.5722147</td><td> 5        </td><td>0.4586495 </td><td>0.07945407</td><td>0.9474096 </td><td>462       </td></tr>\n",
       "\t<tr><td>At home   </td><td> 9        </td><td>0.2379648 </td><td>-0.1008734</td><td>-0.5744589</td><td> 9        </td><td>0.4704680 </td><td>0.08161447</td><td>0.9709960 </td><td> 19       </td></tr>\n",
       "\t<tr><td>At home   </td><td>10        </td><td>0.2707163 </td><td>-0.1019847</td><td>-0.6389160</td><td>10        </td><td>0.4492461 </td><td>0.08164525</td><td>0.9314511 </td><td>234       </td></tr>\n",
       "\t<tr><td>At home   </td><td>11        </td><td>0.2766606 </td><td>-0.1007342</td><td>-0.6417572</td><td>11        </td><td>0.4510354 </td><td>0.08213965</td><td>0.9297626 </td><td> 70       </td></tr>\n",
       "</tbody>\n",
       "</table>\n"
      ],
      "text/latex": [
       "\\begin{tabular}{r|llllllllll}\n",
       " activity & type & eventID & x & y & z & x\\_std & y\\_std & z\\_std & duration\\\\\n",
       "\\hline\n",
       "\t At home    &  1         & 0.2707163  & -0.1019847 & -0.6389160 &  1         & 0.4498833  & 0.08176106 & 0.9327723  & 141       \\\\\n",
       "\t At home    &  2         & 0.2816335  & -0.1023551 & -0.6604017 &  2         & 0.4457966  & 0.08237494 & 0.9258985  & 171       \\\\\n",
       "\t At home    &  5         & 0.2361426  & -0.1010316 & -0.5722147 &  5         & 0.4586495  & 0.07945407 & 0.9474096  & 462       \\\\\n",
       "\t At home    &  9         & 0.2379648  & -0.1008734 & -0.5744589 &  9         & 0.4704680  & 0.08161447 & 0.9709960  &  19       \\\\\n",
       "\t At home    & 10         & 0.2707163  & -0.1019847 & -0.6389160 & 10         & 0.4492461  & 0.08164525 & 0.9314511  & 234       \\\\\n",
       "\t At home    & 11         & 0.2766606  & -0.1007342 & -0.6417572 & 11         & 0.4510354  & 0.08213965 & 0.9297626  &  70       \\\\\n",
       "\\end{tabular}\n"
      ],
      "text/markdown": [
       "\n",
       "activity | type | eventID | x | y | z | x_std | y_std | z_std | duration | \n",
       "|---|---|---|---|---|---|\n",
       "| At home    |  1         | 0.2707163  | -0.1019847 | -0.6389160 |  1         | 0.4498833  | 0.08176106 | 0.9327723  | 141        | \n",
       "| At home    |  2         | 0.2816335  | -0.1023551 | -0.6604017 |  2         | 0.4457966  | 0.08237494 | 0.9258985  | 171        | \n",
       "| At home    |  5         | 0.2361426  | -0.1010316 | -0.5722147 |  5         | 0.4586495  | 0.07945407 | 0.9474096  | 462        | \n",
       "| At home    |  9         | 0.2379648  | -0.1008734 | -0.5744589 |  9         | 0.4704680  | 0.08161447 | 0.9709960  |  19        | \n",
       "| At home    | 10         | 0.2707163  | -0.1019847 | -0.6389160 | 10         | 0.4492461  | 0.08164525 | 0.9314511  | 234        | \n",
       "| At home    | 11         | 0.2766606  | -0.1007342 | -0.6417572 | 11         | 0.4510354  | 0.08213965 | 0.9297626  |  70        | \n",
       "\n",
       "\n"
      ],
      "text/plain": [
       "  activity type eventID   x          y          z  x_std     y_std     \n",
       "1 At home   1   0.2707163 -0.1019847 -0.6389160  1 0.4498833 0.08176106\n",
       "2 At home   2   0.2816335 -0.1023551 -0.6604017  2 0.4457966 0.08237494\n",
       "3 At home   5   0.2361426 -0.1010316 -0.5722147  5 0.4586495 0.07945407\n",
       "4 At home   9   0.2379648 -0.1008734 -0.5744589  9 0.4704680 0.08161447\n",
       "5 At home  10   0.2707163 -0.1019847 -0.6389160 10 0.4492461 0.08164525\n",
       "6 At home  11   0.2766606 -0.1007342 -0.6417572 11 0.4510354 0.08213965\n",
       "  z_std     duration\n",
       "1 0.9327723 141     \n",
       "2 0.9258985 171     \n",
       "3 0.9474096 462     \n",
       "4 0.9709960  19     \n",
       "5 0.9314511 234     \n",
       "6 0.9297626  70     "
      ]
     },
     "metadata": {},
     "output_type": "display_data"
    }
   ],
   "source": [
    "head(AllFeatures)"
   ]
  },
  {
   "cell_type": "code",
   "execution_count": 214,
   "metadata": {},
   "outputs": [],
   "source": [
    "write.csv(AllFeatures, \"AllFeatures.csv\")"
   ]
  },
  {
   "cell_type": "code",
   "execution_count": null,
   "metadata": {},
   "outputs": [],
   "source": []
  }
 ],
 "metadata": {
  "kernelspec": {
   "display_name": "R",
   "language": "R",
   "name": "ir"
  },
  "language_info": {
   "codemirror_mode": "r",
   "file_extension": ".r",
   "mimetype": "text/x-r-source",
   "name": "R",
   "pygments_lexer": "r",
   "version": "3.5.1"
  }
 },
 "nbformat": 4,
 "nbformat_minor": 2
}
